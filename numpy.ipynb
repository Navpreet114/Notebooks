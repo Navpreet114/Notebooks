{
 "cells": [
  {
   "cell_type": "code",
   "execution_count": 1,
   "metadata": {},
   "outputs": [
    {
     "name": "stdout",
     "output_type": "stream",
     "text": [
      "1.26.4\n"
     ]
    }
   ],
   "source": [
    "import numpy as np\n",
    "\n",
    "#check the version\n",
    "print(np.__version__)"
   ]
  },
  {
   "cell_type": "code",
   "execution_count": 2,
   "metadata": {},
   "outputs": [
    {
     "name": "stdout",
     "output_type": "stream",
     "text": [
      "1\n",
      "2\n",
      "3\n"
     ]
    },
    {
     "data": {
      "text/plain": [
       "18"
      ]
     },
     "execution_count": 2,
     "metadata": {},
     "output_type": "execute_result"
    }
   ],
   "source": [
    "#Create a 1-dimensional array\n",
    "a1 = np.array([1, 2, 3])\n",
    "\n",
    "#Creaet a 2-dimensional array\n",
    "a2 = np.array([[1, 2, 3], [4, 5, 6]])\n",
    "\n",
    "#Create a 3-dimensional array\n",
    "a3 = np.array([[[1, 2, 3],\n",
    "                [4, 5, 6],\n",
    "                [7, 8, 9]], \n",
    "                    [[1, 2, 3],\n",
    "                     [4, 5, 6],\n",
    "                     [7, 8, 9]]])\n",
    "\n",
    "print(a1.ndim)\n",
    "print(a2.ndim)\n",
    "print(a3.ndim)\n",
    "a3.shape\n",
    "a3.dtype\n",
    "a3.size\n"
   ]
  },
  {
   "cell_type": "code",
   "execution_count": 3,
   "metadata": {},
   "outputs": [
    {
     "data": {
      "text/html": [
       "<div>\n",
       "<style scoped>\n",
       "    .dataframe tbody tr th:only-of-type {\n",
       "        vertical-align: middle;\n",
       "    }\n",
       "\n",
       "    .dataframe tbody tr th {\n",
       "        vertical-align: top;\n",
       "    }\n",
       "\n",
       "    .dataframe thead th {\n",
       "        text-align: right;\n",
       "    }\n",
       "</style>\n",
       "<table border=\"1\" class=\"dataframe\">\n",
       "  <thead>\n",
       "    <tr style=\"text-align: right;\">\n",
       "      <th></th>\n",
       "      <th>a</th>\n",
       "      <th>b</th>\n",
       "      <th>c</th>\n",
       "    </tr>\n",
       "  </thead>\n",
       "  <tbody>\n",
       "    <tr>\n",
       "      <th>0</th>\n",
       "      <td>2006</td>\n",
       "      <td>8553</td>\n",
       "      <td>3911</td>\n",
       "    </tr>\n",
       "    <tr>\n",
       "      <th>1</th>\n",
       "      <td>1788</td>\n",
       "      <td>5652</td>\n",
       "      <td>6938</td>\n",
       "    </tr>\n",
       "    <tr>\n",
       "      <th>2</th>\n",
       "      <td>326</td>\n",
       "      <td>535</td>\n",
       "      <td>2767</td>\n",
       "    </tr>\n",
       "    <tr>\n",
       "      <th>3</th>\n",
       "      <td>3826</td>\n",
       "      <td>4003</td>\n",
       "      <td>7119</td>\n",
       "    </tr>\n",
       "    <tr>\n",
       "      <th>4</th>\n",
       "      <td>7784</td>\n",
       "      <td>3864</td>\n",
       "      <td>8436</td>\n",
       "    </tr>\n",
       "  </tbody>\n",
       "</table>\n",
       "</div>"
      ],
      "text/plain": [
       "      a     b     c\n",
       "0  2006  8553  3911\n",
       "1  1788  5652  6938\n",
       "2   326   535  2767\n",
       "3  3826  4003  7119\n",
       "4  7784  3864  8436"
      ]
     },
     "execution_count": 3,
     "metadata": {},
     "output_type": "execute_result"
    }
   ],
   "source": [
    "import pandas as pd\n",
    "\n",
    "df = pd.DataFrame(np.random.randint(10000, size=(5, 3)), columns=['a', 'b', 'c'])\n",
    "df\n"
   ]
  },
  {
   "cell_type": "code",
   "execution_count": 4,
   "metadata": {},
   "outputs": [
    {
     "data": {
      "text/plain": [
       "array([[1, 1],\n",
       "       [1, 1],\n",
       "       [1, 1],\n",
       "       [1, 1],\n",
       "       [1, 1],\n",
       "       [1, 1],\n",
       "       [1, 1],\n",
       "       [1, 1],\n",
       "       [1, 1],\n",
       "       [1, 1]])"
      ]
     },
     "execution_count": 4,
     "metadata": {},
     "output_type": "execute_result"
    }
   ],
   "source": [
    "ones = np.ones((10, 2))\n",
    "ones\n",
    "\n",
    "zero = np.zeros((10, 2))\n",
    "zero\n",
    "\n",
    "one_int = ones.astype(int)\n",
    "one_int\n"
   ]
  },
  {
   "cell_type": "code",
   "execution_count": 6,
   "metadata": {},
   "outputs": [
    {
     "data": {
      "text/plain": [
       "array([[0.2804804 , 0.22007942, 0.0920774 , 0.56033275, 0.75570986,\n",
       "        0.07186282, 0.4719777 , 0.96947914, 0.05629939, 0.56794642,\n",
       "        0.95987404, 0.55021591, 0.65843572, 0.69503545, 0.76914678,\n",
       "        0.24894306, 0.23892361, 0.84463908, 0.49219531, 0.54733406],\n",
       "       [0.57727164, 0.76096858, 0.61043624, 0.79140814, 0.95193129,\n",
       "        0.04129656, 0.10985506, 0.03497347, 0.27145129, 0.11808408,\n",
       "        0.59434392, 0.68677974, 0.26113868, 0.97577948, 0.2375084 ,\n",
       "        0.07442625, 0.40607599, 0.83039639, 0.41340355, 0.31451308],\n",
       "       [0.5983507 , 0.09175349, 0.2290872 , 0.46135663, 0.64804808,\n",
       "        0.74205257, 0.63091249, 0.67320293, 0.23202657, 0.44552565,\n",
       "        0.04202579, 0.0376691 , 0.48020538, 0.41493015, 0.88371859,\n",
       "        0.35403359, 0.20111283, 0.9840807 , 0.46346338, 0.18956023],\n",
       "       [0.63989516, 0.60903857, 0.62851466, 0.25564633, 0.77144208,\n",
       "        0.63166266, 0.90744343, 0.92957701, 0.27097847, 0.8207431 ,\n",
       "        0.94784311, 0.92825284, 0.36215449, 0.87787093, 0.87610153,\n",
       "        0.6506313 , 0.96582635, 0.12450279, 0.33342259, 0.99683981],\n",
       "       [0.63936065, 0.25144883, 0.16030112, 0.02133828, 0.35575317,\n",
       "        0.20534598, 0.74920117, 0.04847779, 0.55219297, 0.11620093,\n",
       "        0.24809136, 0.29506747, 0.06815468, 0.16267892, 0.49950776,\n",
       "        0.74612947, 0.13661653, 0.17675038, 0.6287681 , 0.10771878]])"
      ]
     },
     "execution_count": 6,
     "metadata": {},
     "output_type": "execute_result"
    }
   ],
   "source": [
    "arry1 = np.random.random((5, 20))\n",
    "arry1\n"
   ]
  }
 ],
 "metadata": {
  "kernelspec": {
   "display_name": "base",
   "language": "python",
   "name": "python3"
  },
  "language_info": {
   "codemirror_mode": {
    "name": "ipython",
    "version": 3
   },
   "file_extension": ".py",
   "mimetype": "text/x-python",
   "name": "python",
   "nbconvert_exporter": "python",
   "pygments_lexer": "ipython3",
   "version": "3.12.7"
  }
 },
 "nbformat": 4,
 "nbformat_minor": 2
}
