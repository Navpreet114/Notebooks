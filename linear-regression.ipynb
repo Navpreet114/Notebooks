{
 "cells": [
  {
   "cell_type": "code",
   "execution_count": null,
   "metadata": {},
   "outputs": [],
   "source": [
    "#map square feet of house to its price\n",
    "\n",
    "\"\"\"\n",
    "Assume the following dataset\n",
    "------------------------------\n",
    "| Size (sq.ft.) | Price ($) |\n",
    "  1000            300,000\n",
    "  1500            450,000\n",
    "  2000            500,000\n",
    "  2500            650,000\n",
    "  3000            700,000\n",
    "\"\"\"\n"
   ]
  },
  {
   "cell_type": "code",
   "execution_count": 1,
   "metadata": {},
   "outputs": [],
   "source": [
    "import numpy as np\n"
   ]
  },
  {
   "cell_type": "code",
   "execution_count": 5,
   "metadata": {},
   "outputs": [
    {
     "name": "stdout",
     "output_type": "stream",
     "text": [
      "Predicted price for a 2200 sq. ft. house: $560000.00\n"
     ]
    }
   ],
   "source": [
    "#Dataset \n",
    "sizes = np.array([1000, 1500, 2000, 2500, 3000]) #input 'x'\n",
    "prices = np.array([300000, 450000, 500000, 650000, 700000]) #output 'y'\n",
    "\n",
    "#Calculate the slope (m) and intercept (b) using the polyfit method\n",
    "m, b = np.polyfit(sizes, prices, 1)\n",
    "\n",
    "#Predict price of the house with a given size\n",
    "def predict_price(size):\n",
    "    return m * size + b\n",
    "\n",
    "#Predict the price of a house if the size is 2200 sq. ft.\n",
    "house_size = 2200\n",
    "predicted_price = predict_price(house_size)\n",
    "print(f\"Predicted price for a {house_size} sq. ft. house: ${predicted_price:.2f}\")\n"
   ]
  }
 ],
 "metadata": {
  "kernelspec": {
   "display_name": "base",
   "language": "python",
   "name": "python3"
  },
  "language_info": {
   "codemirror_mode": {
    "name": "ipython",
    "version": 3
   },
   "file_extension": ".py",
   "mimetype": "text/x-python",
   "name": "python",
   "nbconvert_exporter": "python",
   "pygments_lexer": "ipython3",
   "version": "3.12.7"
  }
 },
 "nbformat": 4,
 "nbformat_minor": 2
}
